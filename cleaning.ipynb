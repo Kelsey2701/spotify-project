{
 "cells": [
  {
   "cell_type": "code",
   "execution_count": 2,
   "metadata": {},
   "outputs": [
    {
     "name": "stdout",
     "output_type": "stream",
     "text": [
      "Combined CSV files successfully.\n"
     ]
    }
   ],
   "source": [
    "# Imports\n",
    "import pandas as pd\n",
    "\n",
    "# Load the first CSV file into a DataFrame\n",
    "df1 = pd.read_csv(\"playlist/dislike.csv\")\n",
    "\n",
    "# Load the second CSV file into another DataFrame\n",
    "df2 = pd.read_csv(\"playlist/dislike2.csv\")\n",
    "\n",
    "# Concatenate both DataFrames\n",
    "combined_df = pd.concat([df1, df2], ignore_index=True)\n",
    "\n",
    "# Write the combined DataFrame to a new CSV file\n",
    "combined_df.to_csv(\"combined_dislikes.csv\", index=False)\n",
    "\n",
    "print(\"Combined CSV files successfully.\")\n"
   ]
  },
  {
   "cell_type": "code",
   "execution_count": 5,
   "metadata": {},
   "outputs": [
    {
     "name": "stdout",
     "output_type": "stream",
     "text": [
      "Combined CSV files successfully.\n"
     ]
    }
   ],
   "source": [
    "# Load the CSV files into a DataFrame\n",
    "df3 = pd.read_csv(\"playlist/hits.csv\")\n",
    "df4 = pd.read_csv(\"playlist/classic_college.csv\")\n",
    "df5 = pd.read_csv(\"playlist/classic_college.csv\")\n",
    "df6 = df4 = pd.read_csv(\"playlist/recent.csv\")\n",
    "df7 = pd.read_csv(\"playlist/music_time_.csv\")\n",
    "\n",
    "# Concatenate both DataFrames\n",
    "combined_df = pd.concat([df3, df4, df5, df6, df7], ignore_index=True)\n",
    "\n",
    "# Write the combined DataFrame to a new CSV file\n",
    "combined_df.to_csv(\"combined_likes.csv\", index=False)\n",
    "\n",
    "print(\"Combined CSV files successfully.\")"
   ]
  }
 ],
 "metadata": {
  "kernelspec": {
   "display_name": "dev",
   "language": "python",
   "name": "python3"
  },
  "language_info": {
   "codemirror_mode": {
    "name": "ipython",
    "version": 3
   },
   "file_extension": ".py",
   "mimetype": "text/x-python",
   "name": "python",
   "nbconvert_exporter": "python",
   "pygments_lexer": "ipython3",
   "version": "3.10.13"
  }
 },
 "nbformat": 4,
 "nbformat_minor": 2
}
