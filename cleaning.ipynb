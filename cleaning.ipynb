{
 "cells": [
  {
   "cell_type": "code",
   "execution_count": 1,
   "metadata": {},
   "outputs": [
    {
     "name": "stdout",
     "output_type": "stream",
     "text": [
      "Combined CSV files successfully.\n"
     ]
    }
   ],
   "source": [
    "# Imports\n",
    "import pandas as pd\n",
    "\n",
    "# Load the first CSV file into a DataFrame\n",
    "df1 = pd.read_csv(\"playlist/dislike.csv\")\n",
    "\n",
    "# Load the second CSV file into another DataFrame\n",
    "df2 = pd.read_csv(\"playlist/dislike2.csv\")\n",
    "\n",
    "# Add a new column named \"target\" filled with the number 0 (to show we dislike it) to both DataFrames\n",
    "df1['target'] = 0\n",
    "df2['target'] = 0\n",
    "\n",
    "# Concatenate both DataFrames\n",
    "combined_df = pd.concat([df1, df2], ignore_index=True)\n",
    "\n",
    "# Write the combined DataFrame to a new CSV file\n",
    "combined_df.to_csv(\"combined_dislikes.csv\", index=False)\n",
    "\n",
    "print(\"Combined CSV files successfully.\")\n"
   ]
  },
  {
   "cell_type": "code",
   "execution_count": 2,
   "metadata": {},
   "outputs": [
    {
     "name": "stdout",
     "output_type": "stream",
     "text": [
      "Combined CSV files successfully.\n"
     ]
    }
   ],
   "source": [
    "# Load the CSV files into a DataFrame\n",
    "df3 = pd.read_csv(\"playlist/hits.csv\")\n",
    "df4 = pd.read_csv(\"playlist/classic_college.csv\")\n",
    "df5 = pd.read_csv(\"playlist/classic_college.csv\")\n",
    "df6 = df4 = pd.read_csv(\"playlist/recent.csv\")\n",
    "df7 = pd.read_csv(\"playlist/music_time_.csv\")\n",
    "\n",
    "\n",
    "# Add a new column named \"target\" filled with the number 1 (to show we like it) to all DataFrames\n",
    "df3['target'] = 1\n",
    "df4['target'] = 1\n",
    "df5['target'] = 1\n",
    "df6['target'] = 1\n",
    "df7['target'] = 1\n",
    "\n",
    "# Concatenate both DataFrames\n",
    "combined_df2 = pd.concat([df3, df4, df5, df6, df7], ignore_index=True)\n",
    "\n",
    "# Write the combined DataFrame to a new CSV file\n",
    "combined_df2.to_csv(\"combined_likes.csv\", index=False)\n",
    "\n",
    "print(\"Combined CSV files successfully.\")"
   ]
  },
  {
   "cell_type": "code",
   "execution_count": 3,
   "metadata": {},
   "outputs": [],
   "source": [
    "# Combine both the dislikes and the likes into one\n",
    "new_df = pd.concat([combined_df, combined_df2], ignore_index=True)\n",
    "\n",
    "# Write the combined DataFrame to a new CSV file\n",
    "new_df.to_csv(\"music_playlists.csv\", index=False)\n"
   ]
  },
  {
   "cell_type": "code",
   "execution_count": 7,
   "metadata": {},
   "outputs": [],
   "source": [
    "# Define the desired column order\n",
    "desired_columns = ['Acousticness', 'Danceability', 'Duration (ms)', 'Energy', 'Instrumentalness', \n",
    "                   'Key', 'Liveness', 'Loudness', 'Mode', 'Speechiness', 'Tempo', 'Time Signature', \n",
    "                   'Valence', 'target', 'Track Name', 'Artist Name(s)']\n",
    "\n",
    "# Select only the desired columns\n",
    "df_reordered = new_df[desired_columns].copy()\n",
    "\n",
    "# Save the reordered DataFrame to a new CSV file\n",
    "df_reordered.to_csv(\"reordered_music_playlists.csv\", index=False)\n",
    "\n"
   ]
  }
 ],
 "metadata": {
  "kernelspec": {
   "display_name": "dev",
   "language": "python",
   "name": "python3"
  },
  "language_info": {
   "codemirror_mode": {
    "name": "ipython",
    "version": 3
   },
   "file_extension": ".py",
   "mimetype": "text/x-python",
   "name": "python",
   "nbconvert_exporter": "python",
   "pygments_lexer": "ipython3",
   "version": "3.10.13"
  }
 },
 "nbformat": 4,
 "nbformat_minor": 2
}
